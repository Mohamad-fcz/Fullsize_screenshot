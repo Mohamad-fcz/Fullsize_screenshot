{
 "cells": [
  {
   "cell_type": "code",
   "execution_count": 1,
   "metadata": {
    "collapsed": true
   },
   "outputs": [],
   "source": [
    "import os\n",
    "import time\n",
    "import ipywidgets as widgets\n",
    "from IPython.display import IFrame\n",
    "from IPython.display import display\n",
    "from tqdm.notebook import tqdm\n",
    "from selenium import webdriver\n",
    "from selenium.webdriver.chrome.options import Options\n",
    "from selenium.webdriver.common.by import By\n",
    "from webdriver_manager.chrome import ChromeDriverManager\n",
    "from selenium.webdriver.chrome.service import Service\n"
   ]
  },
  {
   "cell_type": "code",
   "execution_count": 2,
   "outputs": [
    {
     "data": {
      "text/plain": "HBox(children=(VBox(children=(ToggleButtons(description='Format:', options=('HTML', 'Web Page URL'), tooltips=…",
      "application/vnd.jupyter.widget-view+json": {
       "version_major": 2,
       "version_minor": 0,
       "model_id": "e6f300c51d3b44fc87b6cf4c16d93457"
      }
     },
     "metadata": {},
     "output_type": "display_data"
    },
    {
     "data": {
      "text/plain": "Output()",
      "application/vnd.jupyter.widget-view+json": {
       "version_major": 2,
       "version_minor": 0,
       "model_id": "8544811fa0de47dca38802ad751bc427"
      }
     },
     "metadata": {},
     "output_type": "display_data"
    }
   ],
   "source": [
    "def full_page_screenshot(format2, url2, duration2, interval2, output_directory2):\n",
    "\n",
    "    if format2 == \"HTML\":\n",
    "        counter = 0\n",
    "        interval2 = 0\n",
    "    elif format2 == \"Web Page URL\":\n",
    "        counter = (duration2*60)/interval2\n",
    "\n",
    "    pbar = tqdm(range(int(counter)+1))\n",
    "    for i in pbar:\n",
    "        pbar.set_description(f\"screen shot number {i} of {int(counter)} has been stored\")\n",
    "        options = Options()\n",
    "        options.add_argument(\"start-maximized\")\n",
    "        # options.add_experimental_option(\"detach\", True)\n",
    "        driver = webdriver.Chrome(service=Service(ChromeDriverManager().install()), options=options)\n",
    "        driver.get(url2)\n",
    "        driver.implicitly_wait(15)\n",
    "        #get window size\n",
    "        s = driver.get_window_size()\n",
    "        #obtain browser height and width\n",
    "        w = driver.execute_script('return document.body.parentNode.scrollWidth')\n",
    "        h = driver.execute_script('return document.body.parentNode.scrollHeight')\n",
    "        #set to new window size\n",
    "        driver.set_window_size(w, h)\n",
    "        #obtain screenshot of page within body tag\n",
    "        # driver.save_screenshot(\"image.png\")\n",
    "        # Alternatively if there is body in the page\n",
    "        if url2.endswith(\".html\"):\n",
    "            name = os.path.basename(url2)[:-5]\n",
    "        else:\n",
    "            name = f\"FRG_{i}\"\n",
    "        driver.find_element(by=By.TAG_NAME, value='body').screenshot(os.path.join(os.path.abspath(output_directory2), f\"{name}.png\"))\n",
    "        driver.set_window_size(s['width'], s['height'])\n",
    "        driver.quit()\n",
    "        time.sleep(interval2*60)\n",
    "    return\n",
    "\n",
    "\n",
    "form = widgets.ToggleButtons(options=['HTML', 'Web Page URL'],description='Format:',disabled=False,button_style='',tooltips=['Description of slow', 'Description of regular'])\n",
    "url = widgets.Textarea(value=r\"\",placeholder='Type your URL',description='URL:',disabled=False)\n",
    "# \"F:\\OneDrive - University of Texas at Arlington\\UTA\\Office\\TSS\\TSS_Results\\Guadalupe\\Final report data\\100\\4_Finalize_HMS_Elliptical_Design_Storm_Runs_50\\4c_Storm_Map_Blanco_nr_Kyle_Gage_100yr24hr_flow.html\"\n",
    "duration = widgets.Dropdown(options=[('30 minutes', 0.5), ('1 Hour', 1),('1.5 Hour', 1.5), ('2 Hour', 2), ('4 Hour', 4), ('5 Hour', 5), ('6 Hour', 6), ('7 Hour', 7), ('8 Hour', 8), ('9 Hour', 9), ('10 Hour', 10), ('11 Hour', 11), ('12 Hour', 12), ('13 Hour', 13), ('14 Hour', 14), ('15 Hour', 15), ('16 Hour', 16), ('17 Hour', 17), ('18 Hour', 18), ('19 Hour', 19), ('20 Hour', 20), ('21 Hour', 21), ('22 Hour', 22), ('23 Hour', 23), ('24 Hour', 24), ('48 Hour', 48)],value=1,description='Duration:',)\n",
    "interval = widgets.FloatSlider(value=15,min=0,max=60.0,step=0.5,description='Interval:',disabled=False,continuous_update=False, orientation='horizontal',readout=True,readout_format='.1f',)\n",
    "output_directory = widgets.Textarea(value=r\"\",placeholder='Type folder path',description='Out folder:',disabled=False)\n",
    "# \"F:\\OneDrive - University of Texas at Arlington\\Pycharm projects\\Web_Crawling\\Screenshots\"\n",
    "executer = widgets.Button(description='Done',disabled=False,button_style='success',tooltip='Click me',icon='check')\n",
    "output = widgets.Output()\n",
    "def on_button_clicked(b):\n",
    "    with output:\n",
    "        print(\"Settings saved       Now you may run below cell\")\n",
    "executer.on_click(on_button_clicked)\n",
    "items = [form, url, duration, interval, output_directory, executer]\n",
    "left_box = widgets.VBox([items[0], items[1], items[5]])\n",
    "right_box = widgets.VBox([items[2], items[3], items[4]])\n",
    "display(widgets.HBox([left_box, right_box]), output)"
   ],
   "metadata": {
    "collapsed": false
   }
  },
  {
   "cell_type": "code",
   "execution_count": null,
   "outputs": [],
   "source": [
    "full_page_screenshot(form.value, url.value, duration.value, interval.value, output_directory.value)"
   ],
   "metadata": {
    "collapsed": false
   }
  }
 ],
 "metadata": {
  "kernelspec": {
   "display_name": "Python 3",
   "language": "python",
   "name": "python3"
  },
  "language_info": {
   "codemirror_mode": {
    "name": "ipython",
    "version": 2
   },
   "file_extension": ".py",
   "mimetype": "text/x-python",
   "name": "python",
   "nbconvert_exporter": "python",
   "pygments_lexer": "ipython2",
   "version": "2.7.6"
  }
 },
 "nbformat": 4,
 "nbformat_minor": 0
}
